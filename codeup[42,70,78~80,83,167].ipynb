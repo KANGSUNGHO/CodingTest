{
 "cells": [
  {
   "cell_type": "markdown",
   "metadata": {},
   "source": [
    "## codeup 1042 스택 - 거꾸로 출력하기\n",
    " 두 수를 거꾸로 출력하기..\n",
    "\n",
    "세 수를 거꾸로 출력하기...\n",
    "\n",
    "이런 문제들은 쉽게 풀 수 있었다.\n",
    "\n",
    "이번에는 데이터의 개수가 n개가 들어오고, n개의 데이터를 거꾸로 출력하는 프로그램을 작성하시오.\n",
    "\n",
    "- (입력) : 첫째 줄에 데이터의 개수 n이 입력된다. ( n <= 1,000 )\n",
    "\n",
    "    둘째 줄에 공백을 기준으로 n개 데이터가 입력된다.\n",
    "- (출력) : n개의 데이터를 입력의 역순으로 출력한다."
   ]
  },
  {
   "cell_type": "code",
   "execution_count": 40,
   "metadata": {},
   "outputs": [
    {
     "name": "stdout",
     "output_type": "stream",
     "text": [
      "6\n",
      "10 39 48 8 2 30\n",
      "30 2 8 48 39 10 "
     ]
    }
   ],
   "source": [
    "num1 = int(input())\n",
    "result = input().split()\n",
    "if num1 == len(result):\n",
    "    for i in range(num1):\n",
    "        print(result.pop(num1-i-1), end=' ')\n",
    "else:\n",
    "    print(\"개수를 정확히 입력하세요\")\n",
    "\n",
    "\n",
    "\n"
   ]
  },
  {
   "cell_type": "markdown",
   "metadata": {},
   "source": [
    "## codeup 1070 월 입력 받아 계절 출력하기\n",
    "월이 입력될 때 계절 이름이 출력되도록 해보자.\n",
    "\n",
    "예\n",
    "월 : 계절 이름\n",
    "12, 1, 2 : winter\n",
    "  3, 4, 5 : spring\n",
    "  6, 7, 8 : summer\n",
    "  9, 10, 11 : fall\n",
    "  \n",
    "  참고\n",
    "swtich( ).. case ... break; 제어문에서\n",
    "break;를 제거하면 멈추지 않고 다음 명령이 실행되는 특성을 이용할 수 있다.\n",
    "\n",
    "switch(a)\n",
    "{\n",
    "  ...\n",
    "  case 3:\n",
    "  case 4:\n",
    "  case 5:\n",
    "    printf(\"spring\");\n",
    "  break;\n",
    "  ...\n",
    "}\n",
    "로 작성하면, 3, 4, 5가 입력되었을 때 모두 \"spring\"이 출력된다.\n",
    "\n",
    "** 12, 1, 2 는 어떻게 처리해야 할지 여러 가지로 생각해 보아야 한다.\n",
    "\n",
    "\n",
    "- (입력) : 월을 의미하는 1개의 정수가 입력된다.(1 ~ 12)\n",
    "- (출력) : 계절 이름을 출력한다."
   ]
  },
  {
   "cell_type": "code",
   "execution_count": 7,
   "metadata": {},
   "outputs": [
    {
     "name": "stdout",
     "output_type": "stream",
     "text": [
      "월 입력: 3\n",
      "spring\n"
     ]
    }
   ],
   "source": [
    "month = int(input('월 입력: '))\n",
    "season = [[12,1,2],[3,4,5],[6,7,8],[9,10,11]]\n",
    "\n",
    "if month in season[0]:\n",
    "    print('winter')\n",
    "elif month in season[1]:\n",
    "    print('spring')\n",
    "elif month in season[2]:\n",
    "    print('summer')\n",
    "else:\n",
    "    print('fall')"
   ]
  },
  {
   "cell_type": "markdown",
   "metadata": {},
   "source": [
    "### codeup 1078 짝수 합 구하기\n",
    "### 정수(1 ~ 100) 1개를 입력받아 1부터 그 수까지 짝수의 합을 구해보자.\n",
    "\n",
    "\n",
    "- (입력) : 정수 1개가 입력된다.(0 ~ 100)\n",
    "- (출력) : 1부터 입력된 수까지 짝수의 합을 출력한다."
   ]
  },
  {
   "cell_type": "code",
   "execution_count": 48,
   "metadata": {},
   "outputs": [
    {
     "name": "stdout",
     "output_type": "stream",
     "text": [
      "10\n",
      "30\n"
     ]
    }
   ],
   "source": [
    "num1 = int(input())\n",
    "i = 1\n",
    "sum = 0\n",
    "for i in range(num1+1):\n",
    "    if i % 2 == 0:\n",
    "        sum += i\n",
    "print(sum)"
   ]
  },
  {
   "cell_type": "markdown",
   "metadata": {},
   "source": [
    "## codeup 1079  원하는 문자가 입력될 때까지 반복 출력하기\n",
    "### 'q'가 입력될 때까지 입력한 문자를 계속 출력하는 프로그램을 작성해보자.\n",
    "\n",
    "\n",
    "- (입력) : 문자들이 1개씩 계속해서 입력된다.\n",
    "\n",
    "- (출력) : 'q'가 입력될 때까지 입력된 문자를 줄을 바꿔 한 줄씩 출력한다."
   ]
  },
  {
   "cell_type": "code",
   "execution_count": 42,
   "metadata": {},
   "outputs": [
    {
     "name": "stdout",
     "output_type": "stream",
     "text": [
      "a b c d e f q s f\n",
      "a\n",
      "b\n",
      "c\n",
      "d\n",
      "e\n",
      "f\n",
      "q\n"
     ]
    }
   ],
   "source": [
    "char1 = input().split()\n",
    "for c in range(len(char1)):\n",
    "    print(char1[c])\n",
    "    if char1[c] == 'q':\n",
    "        break\n",
    "        "
   ]
  },
  {
   "cell_type": "markdown",
   "metadata": {},
   "source": [
    "## codeup 1080 언제까지 더해야 할까?\n",
    "\n",
    "\n",
    "   1, 2, 3 ... 을 계속 더해 나갈 때,\n",
    "   그 합이 입력한 정수(0 ~ 1000)보다 같거나 작을 때까지\n",
    "   계속 더하는 프로그램을 작성해보자.\n",
    "\n",
    "   즉, 1부터 n까지 정수를 계속 더한다고 할 때,\n",
    "   어디까지 더해야 입력한 수보다 같거나 커지는지 알아보고자 하는 문제이다.\n",
    "\n",
    "- (입력) : 정수 1개가 입력된다.\n",
    "\n",
    "\n",
    "- (출력) : 1, 2, 3, 4, 5 ... 를 순서대로 계속 더해 합을 만들어가다가, 입력된 정수와 같거나 커졌을 때, 마지막에 더한 정수를 출력한다."
   ]
  },
  {
   "cell_type": "code",
   "execution_count": 79,
   "metadata": {},
   "outputs": [
    {
     "name": "stdout",
     "output_type": "stream",
     "text": [
      "55\n",
      "10\n"
     ]
    }
   ],
   "source": [
    "num1 = int(input())\n",
    "\n",
    "sum1 = 0\n",
    "for i in range(1,1000,1):\n",
    "    if num1 <= sum1:\n",
    "        print(i-1)\n",
    "        break\n",
    "    else:\n",
    "        sum1 += i\n"
   ]
  },
  {
   "cell_type": "markdown",
   "metadata": {},
   "source": [
    "## codeup 1083 3 6 9 게임의 왕이 되자!\n",
    "3 6 9 게임을 하던 영일이는 3 6 9 게임에서 잦은 실수로 계속해서 벌칙을 받게 되었다.\n",
    "3 6 9 게임의 왕이 되기 위한 마스터 프로그램을 작성해 보자.\n",
    "\n",
    "참고\n",
    "중첩의 원리\n",
    "반복 실행 구조 안에 선택 실행 구조를 자유롭게 중첩할 수 있다.\n",
    "\n",
    "예시\n",
    "int i;\n",
    "for(i=1; i<=100; i++) //1부터 100까지 반복\n",
    "{\n",
    "  if(i%3==0 || i%5==0) printf(\"%d \", i); //3또는 5의 배수인 경우 그 수 출력\n",
    "}\n",
    "\n",
    "** 3 6 9 게임은?\n",
    "여러 사람이 순서를 정해 순서대로 수를 부르는 게임이다.\n",
    "만약 3, 6, 9 가 들어간 수를 자신이 불러야 하는 상황이면, 대신 \"박수\" 를 쳐야 한다.\n",
    "33까지 진행했다면? \"짝짝\"과 같이 박수를 두 번 치는 형태도 있다.\n",
    "\n",
    "- (입력) :10 보다 작은 정수 1개가 입력된다. (1 ~ 9)\n",
    "\n",
    "- (출력) :1 부터 그 수까지 순서대로 공백을 두고 수를 출력하는데, 3 또는 6 또는 9인 경우 그 수 대신 영문 대문자 X 를 출력한다."
   ]
  },
  {
   "cell_type": "code",
   "execution_count": 2,
   "metadata": {},
   "outputs": [
    {
     "name": "stdout",
     "output_type": "stream",
     "text": [
      "10\n",
      "1 2 x 4 5 x 7 8 x 10 "
     ]
    }
   ],
   "source": [
    "num1 = int(input())\n",
    "for i in range(1,num1+1):\n",
    "    if i % 3 == 0:\n",
    "        print('x',end=' ')\n",
    "    else:\n",
    "        print(i, end=' ')\n",
    "    "
   ]
  },
  {
   "cell_type": "markdown",
   "metadata": {},
   "source": [
    "## codeup 1167 두번째로 작은 수\n",
    "\n",
    "    세 개의 숫자가 주어질 때 두번째로 작은 수를출력해보자.\n",
    "    예를 들어, 5 9 2 가 있다면 두번째로 작은 수는 5이다.\n",
    "\n",
    "\n",
    "- (입력) : 세 개의 정수가 공백으로 구분되어 입력된다. \n",
    "\n",
    "- (출력) : '세 개의 정수 중 두번째로 작은 숫자를 출력한다."
   ]
  },
  {
   "cell_type": "code",
   "execution_count": 55,
   "metadata": {},
   "outputs": [
    {
     "name": "stdout",
     "output_type": "stream",
     "text": [
      "201 20 3\n",
      "20\n"
     ]
    }
   ],
   "source": [
    "a = input().split()\n",
    "b = list(map(int,a))\n",
    "b.sort()\n",
    "print(b[1])"
   ]
  },
  {
   "cell_type": "code",
   "execution_count": null,
   "metadata": {},
   "outputs": [],
   "source": []
  }
 ],
 "metadata": {
  "kernelspec": {
   "display_name": "Python 3",
   "language": "python",
   "name": "python3"
  },
  "language_info": {
   "codemirror_mode": {
    "name": "ipython",
    "version": 3
   },
   "file_extension": ".py",
   "mimetype": "text/x-python",
   "name": "python",
   "nbconvert_exporter": "python",
   "pygments_lexer": "ipython3",
   "version": "3.8.3"
  }
 },
 "nbformat": 4,
 "nbformat_minor": 4
}
