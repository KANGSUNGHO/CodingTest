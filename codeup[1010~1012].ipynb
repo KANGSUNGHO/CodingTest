{
 "cells": [
  {
   "cell_type": "markdown",
   "metadata": {},
   "source": [
    "## codeup 기초 1010번\n",
    "###  정수 1개 입력받아 그대로 출력하기\n",
    "정수형(int)으로 변수를 선언하고, 변수에 정수값을 저장한 후\n",
    "변수에 저장되어 있는 값을 그대로 출력해보자.\n",
    "\n",
    "예시\n",
    "int main()\n",
    "{\n",
    "    int n;\n",
    "    scanf(\"%d\", &n);\n",
    "    printf(\"%d\", n);\n",
    "\n",
    "    return 0;\n",
    "}\n",
    "\n",
    "와 같은 형태로 가능하다.\n"
   ]
  },
  {
   "cell_type": "code",
   "execution_count": 8,
   "metadata": {},
   "outputs": [
    {
     "name": "stdout",
     "output_type": "stream",
     "text": [
      "15\n",
      "15\n"
     ]
    }
   ],
   "source": [
    "num = int(input())\n",
    "print(num)"
   ]
  },
  {
   "cell_type": "markdown",
   "metadata": {},
   "source": [
    "## codeup 기초 1011번\n",
    "### 문자 1개 입력받아 그대로 출력하기\n",
    "문자형(char)으로 변수를 하나 선언하고, 변수에 문자를 저장한 후\n",
    "변수에 저장되어 있는 문자를 그대로 출력해보자.\n",
    "\n",
    "참고\n",
    "char x;\n",
    "scanf(\"%c\", &x);\n",
    "printf(\"%c\", x);\n",
    "\n",
    "와 같은 방법으로 가능하다."
   ]
  },
  {
   "cell_type": "code",
   "execution_count": 9,
   "metadata": {},
   "outputs": [
    {
     "name": "stdout",
     "output_type": "stream",
     "text": [
      "p\n",
      "p\n"
     ]
    }
   ],
   "source": [
    "x = input()\n",
    "print(x)"
   ]
  },
  {
   "cell_type": "markdown",
   "metadata": {},
   "source": [
    "## codeup 기초 1012번\n",
    "### 실수 1개 입력받아 그대로 출력하기\n",
    "실수형(float)로 변수를 선언하고 그 변수에 실수값을 저장한 후\n",
    "저장되어 있는 실수값을 출력해보자.\n",
    "\n",
    "참고\n",
    "float x;\n",
    "scanf(\"%f\", &x);\n",
    "printf(\"%f\", x);\n",
    "와 같은 방법으로 가능하다."
   ]
  },
  {
   "cell_type": "code",
   "execution_count": 16,
   "metadata": {},
   "outputs": [
    {
     "name": "stdout",
     "output_type": "stream",
     "text": [
      "1.41234\n",
      "1.412340\n"
     ]
    }
   ],
   "source": [
    "num = float(input())\n",
    "print(\"%f\"%num)"
   ]
  },
  {
   "cell_type": "code",
   "execution_count": null,
   "metadata": {},
   "outputs": [],
   "source": []
  }
 ],
 "metadata": {
  "kernelspec": {
   "display_name": "Python 3",
   "language": "python",
   "name": "python3"
  },
  "language_info": {
   "codemirror_mode": {
    "name": "ipython",
    "version": 3
   },
   "file_extension": ".py",
   "mimetype": "text/x-python",
   "name": "python",
   "nbconvert_exporter": "python",
   "pygments_lexer": "ipython3",
   "version": "3.8.3"
  }
 },
 "nbformat": 4,
 "nbformat_minor": 4
}
