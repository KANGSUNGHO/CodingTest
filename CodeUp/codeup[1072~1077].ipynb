{
 "cells": [
  {
   "cell_type": "markdown",
   "metadata": {},
   "source": [
    "## codeup 기초 1072번\n",
    "### 정수 입력받아 계속 출력하기\n",
    "n개의 정수가 순서대로 입력된다.\n",
    "-2147483648 ~ +2147483647, 단, n의 최대 개수는 알 수 없다.\n",
    "n개의 입력된 정수를 순서대로 출력해보자.\n",
    "\n",
    "\n",
    "- (입력) : 첫 줄에 정수의 개수 n이 입력되고, 두 번째 줄에 n개의 정수가 공백을 두고 입력된다. -2147483648 ~ +2147483647, 단 n의 최대 개수는 알 수 없다\n",
    "- (출력) : n개의 정수를 한 개씩 줄을 바꿔 출력한다."
   ]
  },
  {
   "cell_type": "code",
   "execution_count": 63,
   "metadata": {},
   "outputs": [
    {
     "name": "stdout",
     "output_type": "stream",
     "text": [
      "5\n",
      "\n",
      "10 20 30 40 50\n",
      "10\n",
      "20\n",
      "30\n",
      "40\n",
      "50\n"
     ]
    }
   ],
   "source": [
    "count = int(input())\n",
    "print()\n",
    "\n",
    "num1 = input().split()\n",
    "if len(num1) == count:\n",
    "    for i in range(len(num1)):\n",
    "        print(num1[i])\n"
   ]
  },
  {
   "cell_type": "markdown",
   "metadata": {},
   "source": [
    "## codeup 기초 1073번\n",
    "### 0이 입력될 때까지 무한 출력하기\n",
    "정수가 순서대로 입력된다.\n",
    "-2147483648 ~ +2147483647, 단 개수는 알 수 없다.\n",
    "0이 아니면 입력된 정수를 출력하고, 0이 입력되면 출력을 중단해보자.\n",
    "\n",
    "- (입력) : -2147483648 ~ +2147483647, 단 개수는 알 수 없다.\n",
    "- (출력) : 입력된 정수를 줄을 바꿔 하나씩 출력하는데, 0이 입력되면 종료한다.(0은 출력하지 않는다.)"
   ]
  },
  {
   "cell_type": "code",
   "execution_count": 44,
   "metadata": {},
   "outputs": [
    {
     "name": "stdout",
     "output_type": "stream",
     "text": [
      "7 4 2 3 0 1 5 6 9 10 8\n",
      "7\n",
      "4\n",
      "2\n",
      "3\n"
     ]
    }
   ],
   "source": [
    "num = input().split()\n",
    "\n",
    "for i in range(len(num)):\n",
    "    if num[i] == '0':\n",
    "        break\n",
    "    print(num[i])"
   ]
  },
  {
   "cell_type": "markdown",
   "metadata": {},
   "source": [
    "## codeup 기초 1074번\n",
    "### 정수 1개 입력받아 카운트다운 출력하기1\n",
    "정수(1 ~ 100) 1개가 입력되었을 때 카운트다운을 출력해보자.\n",
    "- (입력) : 정수 1개가 입력된다. (1~100)\n",
    "- (출력) : 1씩 줄이면서 한 줄에 하나씩 1이 될 때까지 출력한다."
   ]
  },
  {
   "cell_type": "code",
   "execution_count": 36,
   "metadata": {},
   "outputs": [
    {
     "name": "stdout",
     "output_type": "stream",
     "text": [
      "5\n",
      "\n",
      "5\n",
      "4\n",
      "3\n",
      "2\n",
      "1\n"
     ]
    }
   ],
   "source": [
    "num = int(input())\n",
    "print()\n",
    "while num > 0:\n",
    "    print(num)\n",
    "    num -= 1\n"
   ]
  },
  {
   "cell_type": "markdown",
   "metadata": {},
   "source": [
    "## codeup 기초 1075번\n",
    "### 정수 1개 입력받아 카운트다운 출력하기2\n",
    "정수(1 ~ 100) 1개가 입력되었을 때 카운트다운을 출력해보자.\n",
    "- (입력) : 정수 1개가 입력된다. (1~100)\n",
    "- (출력) : 1씩 줄이면서 한 줄에 하나씩 0이 될 때까지 출력한다."
   ]
  },
  {
   "cell_type": "code",
   "execution_count": 27,
   "metadata": {},
   "outputs": [
    {
     "name": "stdout",
     "output_type": "stream",
     "text": [
      "5\n",
      "\n",
      "4\n",
      "3\n",
      "2\n",
      "1\n",
      "0\n"
     ]
    }
   ],
   "source": [
    "num1 = int(input())\n",
    "print()\n",
    "for i in range(num1-1,-1,-1):\n",
    "    print(i)"
   ]
  },
  {
   "cell_type": "markdown",
   "metadata": {},
   "source": [
    "## codeup 기초 1076번\n",
    "### 문자 1개 입력받아 알파벳 출력하기\n",
    "\n",
    "    영문자(a ~ z) 1개가 입력되었을 때 그 문자까지의 알파벳을 순서대로 출력해보자.\n",
    "- (입력) : 영문자 1개가 입력된다.(a ~ z) ex) f입력\n",
    "- (출력) : a부터 입력한 문자까지 순서대로 공백을 두고 출력한다.ex) a b c d e f 출력\n"
   ]
  },
  {
   "cell_type": "code",
   "execution_count": 21,
   "metadata": {},
   "outputs": [
    {
     "name": "stdout",
     "output_type": "stream",
     "text": [
      "f\n",
      "a b c d e f "
     ]
    }
   ],
   "source": [
    "char1 = input()\n",
    "num1 = ord(char1)\n",
    "\n",
    "a = 97\n",
    "while a <= num1:\n",
    "    print(chr(a), end=' ')\n",
    "    a += 1"
   ]
  },
  {
   "cell_type": "markdown",
   "metadata": {},
   "source": [
    "## codeup 기초 1077번\n",
    "### 정수 1개 입력받아 그 수까지 출력하기\n",
    "- (입력) : 정수 1개가 입력된다(0~100)\n",
    "- (출력) : 0부터 그 수까지 줄을 바꿔 한 개씩 출력한다."
   ]
  },
  {
   "cell_type": "code",
   "execution_count": 5,
   "metadata": {},
   "outputs": [
    {
     "name": "stdout",
     "output_type": "stream",
     "text": [
      "4\n",
      "\n",
      "0\n",
      "1\n",
      "2\n",
      "3\n",
      "4\n"
     ]
    }
   ],
   "source": [
    "num = int(input())\n",
    "print()\n",
    "for i in range(num+1):\n",
    "    print(i)"
   ]
  },
  {
   "cell_type": "code",
   "execution_count": 4,
   "metadata": {},
   "outputs": [
    {
     "name": "stdout",
     "output_type": "stream",
     "text": [
      "a\n"
     ]
    },
    {
     "data": {
      "text/plain": [
       "list"
      ]
     },
     "execution_count": 4,
     "metadata": {},
     "output_type": "execute_result"
    }
   ],
   "source": [
    "a = list(input())\n",
    "type(a)"
   ]
  },
  {
   "cell_type": "code",
   "execution_count": null,
   "metadata": {},
   "outputs": [],
   "source": []
  }
 ],
 "metadata": {
  "kernelspec": {
   "display_name": "Python 3",
   "language": "python",
   "name": "python3"
  },
  "language_info": {
   "codemirror_mode": {
    "name": "ipython",
    "version": 3
   },
   "file_extension": ".py",
   "mimetype": "text/x-python",
   "name": "python",
   "nbconvert_exporter": "python",
   "pygments_lexer": "ipython3",
   "version": "3.8.3"
  }
 },
 "nbformat": 4,
 "nbformat_minor": 4
}
