{
 "cells": [
  {
   "cell_type": "markdown",
   "metadata": {},
   "source": [
    "## codeup 기초 1013번\n",
    "###  정수 2개 입력받아 그대로 출력하기\n",
    "\n",
    "정수(int) 2개를 입력받아 그대로 출력해보자.\n",
    "\n",
    "참고\n",
    "\n",
    "int a, b;\n",
    "scanf(\"%d%d\", &a, &b);  //엔터/공백으로 입력 데이터가 구분되어 입력\n",
    "printf(\"%d %d\", a, b);\n",
    "\n",
    "와 같은 방법으로 가능하다.\n",
    "\n",
    "(입력) 2개의 정수가 공백으로 구분되어 입력된다.\n",
    "\n",
    "(출력) 입력된 두 정수를 공백으로 구분하여 출력한다.\n",
    "\n"
   ]
  },
  {
   "cell_type": "code",
   "execution_count": 7,
   "metadata": {},
   "outputs": [
    {
     "name": "stdout",
     "output_type": "stream",
     "text": [
      "10 20\n",
      "10 20\n"
     ]
    }
   ],
   "source": [
    "num1, num2 = input().split()\n",
    "print(int(num1),int(num2))"
   ]
  },
  {
   "cell_type": "markdown",
   "metadata": {},
   "source": [
    "## codeup 기초 1014번\n",
    "### 문자 2개 입력받아 순서 바꿔 출력하기\n",
    "\n",
    "2개의 문자(ASCII CODE)를 입력받아서 순서를 바꿔 출력해보자.\n",
    "\n",
    "참고\n",
    "char x, y;\n",
    "scanf(\"%c %c\", &x, &y);\n",
    "printf(\"%c %c\", y, x); //출력되는 순서를 작성\n",
    "와 같은 방법으로 해결할 수 있다.\n",
    "\n",
    "(입력) 2개의 문자가 공백으로 구분되어 입력된다.\n",
    "\n",
    "(출력) 두 문자의 순서를 바꿔 출력한다."
   ]
  },
  {
   "cell_type": "code",
   "execution_count": 8,
   "metadata": {},
   "outputs": [
    {
     "name": "stdout",
     "output_type": "stream",
     "text": [
      "A b\n",
      "b A\n"
     ]
    }
   ],
   "source": [
    "char1, char2 = input().split()\n",
    "print(char2, char1)"
   ]
  },
  {
   "cell_type": "markdown",
   "metadata": {},
   "source": [
    "## codeup 기초 1015번\n",
    "### 실수 입력받아 둘째 자리까지 출력하기\n",
    "\n",
    "실수(float) 1개를 입력받아 저장한 후,\n",
    "저장되어 있는 값을 소수점 셋 째 자리에서 반올림하여\n",
    "소수점 이하 둘 째 자리까지 출력하시오.\n",
    "\n",
    "참고\n",
    "%.3f 와 같은 형식으로 지정하면,\n",
    "소수점 이하 넷 째 자리에서 반올림하여 소수점 이하 셋 째 자리까지 출력하라는 의미이다.\n",
    "\n",
    "(입력) 실수 1개가 입력된다.\n",
    "\n",
    "(출력) 결과를 소수점 셋 째 자리에서 반올림 해, 소숫점 이하 둘째 자리까지 출력한다.\n",
    "(%.2f를 이용하면 된다.)"
   ]
  },
  {
   "cell_type": "code",
   "execution_count": 13,
   "metadata": {},
   "outputs": [
    {
     "name": "stdout",
     "output_type": "stream",
     "text": [
      "1.69254\n",
      "1.69\n"
     ]
    }
   ],
   "source": [
    "float1 = float(input())\n",
    "print(\"%.2f\" %float1)"
   ]
  },
  {
   "cell_type": "markdown",
   "metadata": {},
   "source": [
    "1016번은 문제가 없음\n",
    "## codeup 기초 1017번\n",
    "### 정수 1개 입력받아 3번 출력하기\n",
    "\n",
    "int형 정수 1개를 입력받아 공백을 사이에 두고 3번 출력해보자.\n",
    "\n",
    "참고\n",
    "printf(\"%d %d %d\", a, a, a);\n",
    "와 같은 방법으로 출력할 수 있다.\n",
    "\n",
    "(입력) 정수 1개가 입력된다.\n",
    "(출력) 입력받은 정수를 공백으로 구분해 3번 출력한다."
   ]
  },
  {
   "cell_type": "code",
   "execution_count": 19,
   "metadata": {},
   "outputs": [
    {
     "name": "stdout",
     "output_type": "stream",
     "text": [
      "100\n",
      "100 100 100 "
     ]
    }
   ],
   "source": [
    "num = int(input())\n",
    "for i in range(3):\n",
    "    print(num, end=' ')"
   ]
  },
  {
   "cell_type": "markdown",
   "metadata": {},
   "source": [
    "## codeup 기초 1018번\n",
    "### 시간 입력받아 그대로 출력하기\n",
    "\n",
    "어떤 형식에 맞추어 시간이 입력될 때, 그대로 출력하는 연습을 해보자.\n",
    "\n",
    "참고\n",
    "scanf( ) 함수는 지정한 형식(format)에 따라 입력받는 함수이다.\n",
    "따라서, 입력받고자 하는 형식으로 표현해주면 된다.\n",
    "\n",
    "예시\n",
    "scanf(\"%d:%d\", &h, &m); //콜론(:) 기호를 기준으로 두 수가 각 변수에 저장된다.\n",
    "\n",
    "(입력) 시(hour)와 분(minute)이 \":\" 으로 구분되어 입력된다.\n",
    "(출력) 입력받은 시간을 \"시:분\" 형식으로 출력한다."
   ]
  },
  {
   "cell_type": "code",
   "execution_count": 24,
   "metadata": {},
   "outputs": [
    {
     "name": "stdout",
     "output_type": "stream",
     "text": [
      "10:30\n",
      "10:30\n"
     ]
    }
   ],
   "source": [
    "hour, minute = input().split(\":\")\n",
    "print(hour + \":\" + minute)"
   ]
  },
  {
   "cell_type": "code",
   "execution_count": null,
   "metadata": {},
   "outputs": [],
   "source": []
  }
 ],
 "metadata": {
  "kernelspec": {
   "display_name": "Python 3",
   "language": "python",
   "name": "python3"
  },
  "language_info": {
   "codemirror_mode": {
    "name": "ipython",
    "version": 3
   },
   "file_extension": ".py",
   "mimetype": "text/x-python",
   "name": "python",
   "nbconvert_exporter": "python",
   "pygments_lexer": "ipython3",
   "version": "3.8.3"
  }
 },
 "nbformat": 4,
 "nbformat_minor": 4
}
