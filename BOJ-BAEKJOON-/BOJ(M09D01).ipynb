{
 "cells": [
  {
   "cell_type": "code",
   "execution_count": 46,
   "metadata": {},
   "outputs": [
    {
     "name": "stdout",
     "output_type": "stream",
     "text": [
      "10\n",
      "65\n",
      "100\n",
      "30\n",
      "95\n",
      "68\n"
     ]
    }
   ],
   "source": [
    "# 10039번\n",
    "# 평균점수\n",
    "numList = []\n",
    "for i in range(5):\n",
    "    num1 = int(input())\n",
    "    numList.append(num1)\n",
    "\n",
    "num_len = len(numList)\n",
    "sum = 0\n",
    "for i in range(num_len):\n",
    "    if numList[i] < 40:\n",
    "        numList[i] = 40\n",
    "    sum += numList[i]\n",
    "total = sum/num_len  \n",
    "print(int(total))"
   ]
  },
  {
   "cell_type": "code",
   "execution_count": 20,
   "metadata": {},
   "outputs": [
    {
     "name": "stdout",
     "output_type": "stream",
     "text": [
      "800\n",
      "700\n",
      "900\n",
      "198\n",
      "330\n",
      "848\n"
     ]
    }
   ],
   "source": [
    "# 5543번\n",
    "# 상근날드\n",
    "bugger =[]\n",
    "coke = []\n",
    "\n",
    "for i in range(3):\n",
    "    bug_price = int(input())\n",
    "    bugger.append(bug_price)\n",
    "\n",
    "for i in range(2):\n",
    "    coke_price = int(input())\n",
    "    coke.append(coke_price)\n",
    "\n",
    "print(min(bugger) + min(coke) - 50)"
   ]
  },
  {
   "cell_type": "code",
   "execution_count": 25,
   "metadata": {},
   "outputs": [
    {
     "name": "stdout",
     "output_type": "stream",
     "text": [
      "10 20 30\n",
      "20\n"
     ]
    }
   ],
   "source": [
    "# 10817번 \n",
    "# 세수 중 중간값 출력\n",
    "\n",
    "# a,b,c = input().split()\n",
    "\n",
    "# a = int(a)\n",
    "# b = int(b)\n",
    "# c = int(c)\n",
    "\n",
    "# num_max = max(a,b,c)\n",
    "# num_min = min(a,b,c)\n",
    "\n",
    "# print(a + b + c - num_max - num_min)\n",
    "\n",
    "\n",
    "a = list(map(int, input().split()))\n",
    "b = sorted(a)\n",
    "print(b[1])"
   ]
  },
  {
   "cell_type": "code",
   "execution_count": 29,
   "metadata": {},
   "outputs": [
    {
     "name": "stdout",
     "output_type": "stream",
     "text": [
      "3\n",
      "*\n",
      "**\n",
      "***\n",
      "**\n",
      "*\n"
     ]
    }
   ],
   "source": [
    "# 2523번\n",
    "# 별찍기\n",
    "\n",
    "star = int(input())\n",
    "\n",
    "for i in range(1,star +1):\n",
    "    print(i* '*')\n",
    "for j in range(star-1,0,-1):\n",
    "    print(j* '*')"
   ]
  },
  {
   "cell_type": "code",
   "execution_count": 45,
   "metadata": {},
   "outputs": [
    {
     "name": "stdout",
     "output_type": "stream",
     "text": [
      "5\n",
      "*********\n",
      " *******\n",
      "  *****\n",
      "   ***\n",
      "    *\n",
      "   ***\n",
      "  *****\n",
      " *******\n",
      "*********\n"
     ]
    }
   ],
   "source": [
    "# 2446번\n",
    "# 별찍기\n",
    "\n",
    "star = int(input())\n",
    "\n",
    "for i in range(star):\n",
    "    print(\" \" * i + \"*\"*((star-i) *2 -1))\n",
    "    \n",
    "for i in range(star-2,-1, -1):\n",
    "    print(\" \" * i + \"*\"*((star-i) *2 -1))"
   ]
  },
  {
   "cell_type": "code",
   "execution_count": 40,
   "metadata": {},
   "outputs": [
    {
     "name": "stdout",
     "output_type": "stream",
     "text": [
      "10\n",
      "5\n",
      "2\n",
      "3\n",
      "1\n",
      "4\n",
      "2\n",
      "3\n",
      "5\n",
      "1\n",
      "7\n",
      "1\n",
      "1\n",
      "2\n",
      "2\n",
      "3\n",
      "3\n",
      "4\n",
      "5\n",
      "5\n",
      "7\n"
     ]
    }
   ],
   "source": [
    "# 10989번\n",
    "# 수정렬하기 3\n",
    "import sys \n",
    "# sys.stdin.redaline()은 파이썬에서 입력시간 단축해줌.\n",
    "n = int(sys.stdin.redaline()) # 입력할 개수 입력\n",
    "num = [0]*10001 # num 행렬의 10000번째까지 0으로 초기화\n",
    "\n",
    "for i in range(n):\n",
    "    a = int(sys.stdin.redaline()) \n",
    "    num[a] += 1 # 입력한 숫자에 해당하는 키값에 +1 추가\n",
    "for i in range(len(num)):\n",
    "    if num[i] != 0: # 위에서 입력하지 않은 수들은 0으로 초기화 되어 있으므로 0이 아닌거 추출\n",
    "        for j in range(num[i]): # num[i]에 들어있는 개수만큼 반복\n",
    "            print(i) # i값 출력\n"
   ]
  },
  {
   "cell_type": "code",
   "execution_count": null,
   "metadata": {},
   "outputs": [],
   "source": []
  }
 ],
 "metadata": {
  "kernelspec": {
   "display_name": "Python 3",
   "language": "python",
   "name": "python3"
  },
  "language_info": {
   "codemirror_mode": {
    "name": "ipython",
    "version": 3
   },
   "file_extension": ".py",
   "mimetype": "text/x-python",
   "name": "python",
   "nbconvert_exporter": "python",
   "pygments_lexer": "ipython3",
   "version": "3.8.3"
  }
 },
 "nbformat": 4,
 "nbformat_minor": 4
}
