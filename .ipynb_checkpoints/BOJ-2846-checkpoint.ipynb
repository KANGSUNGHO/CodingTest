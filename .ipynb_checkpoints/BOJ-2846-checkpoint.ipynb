{
 "cells": [
  {
   "cell_type": "markdown",
   "metadata": {},
   "source": [
    "# 백준 - 오르막길\n",
    "- 상근이는 자전거를 타고 등교한다. 자전거 길은 오르막길, 내리막길, 평지로 이루어져 있다. 상근이는 개강 첫 날 자전거를 타고 가면서 일정 거리마다 높이를 측정했다. 상근이는 가장 큰 오르막길의 크기를 구하려고 한다.\n",
    "\n",
    "- 측정한 높이는 길이가 N인 수열로 나타낼 수 있다. 여기서 오르막길은 적어도 2개의 수로 이루어진 높이가 증가하는 부분 수열이다. 오르막길의 크기는 부분 수열의 <b Style=\"color:red;\">첫 번째 숫자와 마지막 숫자의 차이</b>이다.\n",
    "\n",
    "- 예를 들어, 높이가 다음과 같은 길이 있다고 하자. 12 3 5 7 10 6 1 11. 이 길에는 2 개의 오르막길이 있다. 밑 줄로 표시된 부분 수열이 오르막길이다. 첫 번째 오르막길의 크기는 7이고, 두 번째 오르막길의 크기는 10이다. 높이가 12와 6인 곳은 오르막길에 속하지 않는다.\n",
    "\n",
    "- 가장 큰 오르막길을 구하는 프로그램을 작성하시오.\n",
    "\n",
    "## 입력\n",
    "- 첫째 줄에 상근이가 측정한 높이의 수이자 수열의 크기인 N(1 ≤ N ≤ 1000)이 주어진다. 둘째 줄에는 N개의 양의 정수 Pi(1 ≤ Pi ≤ 1000)가 주어진다. 각 숫자는 상근이가 측정한 높이이다.\n",
    "\n",
    "## 출력\n",
    "- 첫째 줄에 가장 큰 오르막길의 크기를 출력한다. 만약 오르막길이 없는 경우에는 0을 출력한다.\n",
    "\n",
    "## 예제 입력 1\n",
    "- 8\n",
    "- 12 20 1 3 4 4 11 1\n",
    "\n",
    "\n",
    "## 예제 출력 1\n",
    "- 8\n",
    "\n",
    "## 힌트 \n",
    "- 예제의 경우 오르막길은 총 3개가 있다. (12-20, 1-3-4, 4-11) 오르막길에 포함된 숫자는 항상 증가해야 한다. 따라서, 1-3-4-4-11은 오르막길이 아니다\n",
    "\n",
    "### 출처\n",
    "- Contest > Croatian Open Competition in Informatics > COCI 2010/2011 > Contest #6 2번\n",
    "\n",
    "- 문제를 번역한 사람: baekjoon\n",
    "- 문제의 오타를 찾은 사람: dhdh6190 jymomjin3"
   ]
  },
  {
   "cell_type": "code",
   "execution_count": 4,
   "metadata": {},
   "outputs": [
    {
     "name": "stdout",
     "output_type": "stream",
     "text": [
      "8\n",
      "12 20 1 3 4 4 11 1\n",
      "8\n"
     ]
    }
   ],
   "source": [
    "n = int(input()) # 수열의 크기 입력\n",
    "arr = list(map(int,input().split())) # list(map(함수,리스트)) => map은 리스트의 요소를 지정된 함수로 변환해주는 함수\n",
    "\n",
    "tmp = arr[0]\n",
    "sum = 0\n",
    "answer = []\n",
    "\n",
    "for i in range(1,n):\n",
    "    if arr[i] - tmp >0: # 후와 전의 차이가 0보다 크면 계속 증가하는 수임. \n",
    "        sum += arr[i] - tmp # 후와 전의 차이를 빼서 sum에 저장. 계속 더하면 가장 큰 값과 가장 작은 값의 차이랑 같음\n",
    "        tmp = arr[i] # 현재 수 업데이트\n",
    "        \n",
    "    elif arr[i] == tmp | arr[i]-tmp <0: # 같은수 혹은 0보다 작을 시(낮은 수가 나오면 0보다 작아짐)\n",
    "        answer.append(sum) # 오르막길의 가장 큰값과 작은값의 차이를 리스크트에 저장\n",
    "        tmp = arr[i] # 현재 수 업데이트\n",
    "        sum = 0 # sum값 0으로 초기화\n",
    "\n",
    "answer.append(sum) # 맨 마지막에 오르막길이 나오면 for문에서 append 추가를 못하므로 for문 밖에서 마지막 처리인 append를 추가\n",
    "\n",
    "if len(answer) == 0: # 오르막길이 없다면 0출력\n",
    "    print(0)\n",
    "else:\n",
    "    print(max(answer)) # 오르막길이 리스트에 저장되어 있으므로 가장 큰값만 출력\n",
    " "
   ]
  },
  {
   "cell_type": "code",
   "execution_count": null,
   "metadata": {},
   "outputs": [],
   "source": []
  }
 ],
 "metadata": {
  "kernelspec": {
   "display_name": "Python 3",
   "language": "python",
   "name": "python3"
  },
  "language_info": {
   "codemirror_mode": {
    "name": "ipython",
    "version": 3
   },
   "file_extension": ".py",
   "mimetype": "text/x-python",
   "name": "python",
   "nbconvert_exporter": "python",
   "pygments_lexer": "ipython3",
   "version": "3.8.3"
  }
 },
 "nbformat": 4,
 "nbformat_minor": 4
}
